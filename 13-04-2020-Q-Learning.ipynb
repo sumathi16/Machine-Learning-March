{
 "cells": [
  {
   "attachments": {
    "image.png": {
     "image/png": "[encoded data removed]"
    }
   },
   "cell_type": "markdown",
   "metadata": {},
   "source": [
    "![image.png](attachment:image.png)"
   ]
  },
  {
   "cell_type": "code",
   "execution_count": 1,
   "metadata": {},
   "outputs": [],
   "source": [
    "environment_matrix = [[None, 0],\n",
    "                  [-100, 0],\n",
    "                  [0, 0],\n",
    "                  [0, 0],\n",
    "                  [0, 0],\n",
    "                  [0, 100],\n",
    "                  [0, 0],\n",
    "                  [100, 0],\n",
    "                  [0, 0],\n",
    "                  [0, None]]"
   ]
  },
  {
   "cell_type": "code",
   "execution_count": 25,
   "metadata": {},
   "outputs": [],
   "source": [
    "q_matrix = [[0, 0],\n",
    "      [0, 0],\n",
    "      [0, 0],\n",
    "      [0, 0],\n",
    "      [0, 0],\n",
    "      [0, 0],\n",
    "      [0, 0],\n",
    "      [0, 0],\n",
    "      [0, 0],\n",
    "      [0, 0]]"
   ]
  },
  {
   "cell_type": "code",
   "execution_count": 3,
   "metadata": {},
   "outputs": [],
   "source": [
    "# win loss \n",
    "# win state -6\n",
    "# loss sate - 0\n",
    "win_loss_states = [0,6]"
   ]
  },
  {
   "cell_type": "code",
   "execution_count": 21,
   "metadata": {},
   "outputs": [],
   "source": [
    "# left action -0\n",
    "# Right action -1\n",
    "def getAllPossibleNextAction(cur_pos):\n",
    "    step_matrix = [x != None for x in environment_matrix[cur_pos]]\n",
    "    #print(step_matrix)\n",
    "    action = []\n",
    "    if(step_matrix[0]):\n",
    "        action.append(0)    \n",
    "    if(step_matrix[1]):\n",
    "        action.append(1)\n",
    "    return(action)"
   ]
  },
  {
   "cell_type": "code",
   "execution_count": 9,
   "metadata": {},
   "outputs": [
    {
     "name": "stdout",
     "output_type": "stream",
     "text": [
      "[False, True]\n"
     ]
    },
    {
     "data": {
      "text/plain": [
       "[1]"
      ]
     },
     "execution_count": 9,
     "metadata": {},
     "output_type": "execute_result"
    }
   ],
   "source": [
    "getAllPossibleNextAction(0)"
   ]
  },
  {
   "cell_type": "code",
   "execution_count": 7,
   "metadata": {},
   "outputs": [
    {
     "data": {
      "text/plain": [
       "[0, 1]"
      ]
     },
     "execution_count": 7,
     "metadata": {},
     "output_type": "execute_result"
    }
   ],
   "source": [
    "getAllPossibleNextAction(1)"
   ]
  },
  {
   "cell_type": "code",
   "execution_count": 10,
   "metadata": {},
   "outputs": [],
   "source": [
    "def isGoalStateReached(cur_pos):\n",
    "    return (cur_pos in [6])"
   ]
  },
  {
   "cell_type": "code",
   "execution_count": 11,
   "metadata": {},
   "outputs": [],
   "source": [
    "def getNextState(cur_pos, action):\n",
    "    if (action == 0):\n",
    "        return cur_pos - 1\n",
    "    else:\n",
    "        return cur_pos + 1"
   ]
  },
  {
   "cell_type": "code",
   "execution_count": 12,
   "metadata": {},
   "outputs": [
    {
     "data": {
      "text/plain": [
       "0"
      ]
     },
     "execution_count": 12,
     "metadata": {},
     "output_type": "execute_result"
    }
   ],
   "source": [
    "getNextState(1,0)"
   ]
  },
  {
   "cell_type": "code",
   "execution_count": 13,
   "metadata": {},
   "outputs": [
    {
     "data": {
      "text/plain": [
       "6"
      ]
     },
     "execution_count": 13,
     "metadata": {},
     "output_type": "execute_result"
    }
   ],
   "source": [
    "getNextState(5,1)"
   ]
  },
  {
   "cell_type": "code",
   "execution_count": 14,
   "metadata": {},
   "outputs": [],
   "source": [
    "def isGameOver(cur_pos):\n",
    "    return cur_pos in win_loss_states"
   ]
  },
  {
   "cell_type": "code",
   "execution_count": 15,
   "metadata": {},
   "outputs": [
    {
     "data": {
      "text/plain": [
       "True"
      ]
     },
     "execution_count": 15,
     "metadata": {},
     "output_type": "execute_result"
    }
   ],
   "source": [
    "isGameOver(6)"
   ]
  },
  {
   "cell_type": "code",
   "execution_count": 16,
   "metadata": {},
   "outputs": [
    {
     "data": {
      "text/plain": [
       "True"
      ]
     },
     "execution_count": 16,
     "metadata": {},
     "output_type": "execute_result"
    }
   ],
   "source": [
    "isGameOver(0)"
   ]
  },
  {
   "cell_type": "code",
   "execution_count": 17,
   "metadata": {},
   "outputs": [
    {
     "data": {
      "text/plain": [
       "False"
      ]
     },
     "execution_count": 17,
     "metadata": {},
     "output_type": "execute_result"
    }
   ],
   "source": [
    "isGameOver(2)"
   ]
  },
  {
   "cell_type": "code",
   "execution_count": 27,
   "metadata": {},
   "outputs": [],
   "source": [
    "q_matrix = [[0, 0],\n",
    "      [0, 0],\n",
    "      [0, 0],\n",
    "      [0, 0],\n",
    "      [0, 0],\n",
    "      [0, 0],\n",
    "      [0, 0],\n",
    "      [0, 0],\n",
    "      [0, 0],\n",
    "      [0, 0]]"
   ]
  },
  {
   "cell_type": "code",
   "execution_count": 28,
   "metadata": {},
   "outputs": [
    {
     "name": "stdout",
     "output_type": "stream",
     "text": [
      "[[0, 0], [-71.7570463519, 0.22344167584922048], [0.02316742339227996, 3.40974571380209], [0.46791807159066184, 11.196747931040633], [1.2950929484434028, 33.218097135250034], [5.218351319611171, 71.7570463519], [0, 0], [77.123207545039, 10.435792730987584], [41.81003669362465, 7.285440649426514], [18.859746035337977, 0]]\n",
      "Training done...\n"
     ]
    }
   ],
   "source": [
    "import random\n",
    "discount = 0.9\n",
    "learning_rate = 0.1\n",
    "for _ in range(50):\n",
    "    # get starting place\n",
    "    cur_pos = random.choice([0,1,2,3,4,5,6,7,8,9])\n",
    "    # while goal state is not reached\n",
    "    while(not isGameOver(cur_pos)):\n",
    "        # get all possible next states from cur_step\n",
    "        possible_actions = getAllPossibleNextAction(cur_pos)\n",
    "        # select any one action randomly\n",
    "        action = random.choice(possible_actions)\n",
    "        # find the next state corresponding to the action selected\n",
    "        next_state = getNextState(cur_pos, action)\n",
    "        # update the q_matrix\n",
    "        q_matrix[cur_pos][action] = q_matrix[cur_pos][action] + learning_rate * (environment_matrix[cur_pos][action] + \n",
    "            discount * max(q_matrix[next_state]) - q_matrix[cur_pos][action])\n",
    "        # go to next state\n",
    "        cur_pos = next_state\n",
    "    # print status\n",
    "    #print(\"Episode \", _ , \" done\")\n",
    "print(q_matrix)\n",
    "print(\"Training done...\")\n"
   ]
  },
  {
   "cell_type": "code",
   "execution_count": null,
   "metadata": {},
   "outputs": [],
   "source": []
  },
  {
   "cell_type": "code",
   "execution_count": null,
   "metadata": {},
   "outputs": [],
   "source": []
  }
 ],
 "metadata": {
  "kernelspec": {
   "display_name": "Python 3",
   "language": "python",
   "name": "python3"
  },
  "language_info": {
   "codemirror_mode": {
    "name": "ipython",
    "version": 3
   },
   "file_extension": ".py",
   "mimetype": "text/x-python",
   "name": "python",
   "nbconvert_exporter": "python",
   "pygments_lexer": "ipython3",
   "version": "3.7.4"
  }
 },
 "nbformat": 4,
 "nbformat_minor": 2
}
